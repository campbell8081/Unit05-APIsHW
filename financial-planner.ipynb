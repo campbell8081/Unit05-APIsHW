{
 "metadata": {
  "language_info": {
   "codemirror_mode": {
    "name": "ipython",
    "version": 3
   },
   "file_extension": ".py",
   "mimetype": "text/x-python",
   "name": "python",
   "nbconvert_exporter": "python",
   "pygments_lexer": "ipython3",
   "version": "3.8.3-final"
  },
  "orig_nbformat": 2,
  "kernelspec": {
   "name": "Python 3.8.3 64-bit ('base': conda)",
   "display_name": "Python 3.8.3 64-bit ('base': conda)",
   "metadata": {
    "interpreter": {
     "hash": "4971b783134bde4a5f7f7c01a96a05fc4c9d173f191f9e06fbd9272e16cd1a60"
    }
   }
  }
 },
 "nbformat": 4,
 "nbformat_minor": 2,
 "cells": [
  {
   "cell_type": "code",
   "execution_count": 15,
   "metadata": {},
   "outputs": [],
   "source": [
    "# Initial imports\n",
    "import os\n",
    "import requests\n",
    "import pandas as pd\n",
    "from dotenv import load_dotenv\n",
    "import alpaca_trade_api as tradeapi\n",
    "import json\n",
    "from MCForecastTools import MCSimulation\n",
    "\n",
    "%matplotlib inline"
   ]
  },
  {
   "cell_type": "code",
   "execution_count": 16,
   "metadata": {},
   "outputs": [
    {
     "output_type": "execute_result",
     "data": {
      "text/plain": [
       "True"
      ]
     },
     "metadata": {},
     "execution_count": 16
    }
   ],
   "source": [
    "# Load .env enviroment\n",
    "load_dotenv()"
   ]
  },
  {
   "cell_type": "code",
   "execution_count": 5,
   "metadata": {},
   "outputs": [],
   "source": [
    "## Part 1 - Personal Finance Planner"
   ]
  },
  {
   "cell_type": "code",
   "execution_count": 71,
   "metadata": {},
   "outputs": [],
   "source": [
    "# Set current amount of crypto assets\n",
    "my_btc = 1.2\n",
    "my_eth = 5.3"
   ]
  },
  {
   "cell_type": "code",
   "execution_count": 50,
   "metadata": {},
   "outputs": [],
   "source": [
    "# Cypto API URLs\n",
    "btc_url = \"https://api.alternative.me/v2/ticker/Bitcoin/?convert=CAD\"\n",
    "eth_url = \"https://api.alternative.me/v2/ticker/Ethereum/?convert=CAD\"\n",
    "btc_url = btc_url + \"?format=json\"\n",
    "eth_url = eth_url + \"?format=json\"\n",
    "btc_res = requests.get(btc_url)\n",
    "eth_res = requests.get(eth_url)"
   ]
  },
  {
   "cell_type": "code",
   "execution_count": 51,
   "metadata": {},
   "outputs": [],
   "source": [
    "btc_data = btc_res.json()\n",
    "eth_data = eth_res.json()"
   ]
  },
  {
   "cell_type": "code",
   "execution_count": 52,
   "metadata": {},
   "outputs": [
    {
     "output_type": "stream",
     "name": "stdout",
     "text": [
      "{\n    \"data\": {\n        \"1\": {\n            \"id\": 1,\n            \"name\": \"Bitcoin\",\n            \"symbol\": \"BTC\",\n            \"website_slug\": \"bitcoin\",\n            \"rank\": 1,\n            \"circulating_supply\": 18515437,\n            \"total_supply\": 18515437,\n            \"max_supply\": 21000000,\n            \"quotes\": {\n                \"USD\": {\n                    \"price\": 11459.37,\n                    \"volume_24h\": 21239055497,\n                    \"market_cap\": 212199790088,\n                    \"percentage_change_1h\": -0.573739571244248,\n                    \"percentage_change_24h\": 0.798984291311063,\n                    \"percentage_change_7d\": 6.25332583000349,\n                    \"percent_change_1h\": -0.573739571244248,\n                    \"percent_change_24h\": 0.798984291311063,\n                    \"percent_change_7d\": 6.25332583000349\n                }\n            },\n            \"last_updated\": 1602552562\n        }\n    },\n    \"metadata\": {\n        \"timestamp\": 1602552562,\n        \"num_cryptocurrencies\": 1436,\n        \"error\": null\n    }\n}\n"
     ]
    }
   ],
   "source": [
    "btc_json_data = json.dumps(btc_data, indent=4)\n",
    "print(btc_json_data)"
   ]
  },
  {
   "cell_type": "code",
   "execution_count": 53,
   "metadata": {},
   "outputs": [
    {
     "output_type": "stream",
     "name": "stdout",
     "text": [
      "{\n    \"data\": {\n        \"1027\": {\n            \"id\": 1027,\n            \"name\": \"Ethereum\",\n            \"symbol\": \"ETH\",\n            \"website_slug\": \"ethereum\",\n            \"rank\": 2,\n            \"circulating_supply\": 112982152,\n            \"total_supply\": 112982152,\n            \"max_supply\": 0,\n            \"quotes\": {\n                \"USD\": {\n                    \"price\": 383.95,\n                    \"volume_24h\": 12379648405,\n                    \"market_cap\": 43433663473,\n                    \"percentage_change_1h\": -0.704515481795004,\n                    \"percentage_change_24h\": 2.74381456132579,\n                    \"percentage_change_7d\": 8.58234465450249,\n                    \"percent_change_1h\": -0.704515481795004,\n                    \"percent_change_24h\": 2.74381456132579,\n                    \"percent_change_7d\": 8.58234465450249\n                }\n            },\n            \"last_updated\": 1602552586\n        }\n    },\n    \"metadata\": {\n        \"timestamp\": 1602552586,\n        \"num_cryptocurrencies\": 1436,\n        \"error\": null\n    }\n}\n"
     ]
    }
   ],
   "source": [
    "eth_json_data = json.dumps(eth_data, indent=4)\n",
    "print(eth_json_data)"
   ]
  },
  {
   "cell_type": "code",
   "execution_count": 54,
   "metadata": {},
   "outputs": [
    {
     "output_type": "stream",
     "name": "stdout",
     "text": [
      "11459.37\n"
     ]
    }
   ],
   "source": [
    "# Fetch current BTC price\n",
    "btc_price = btc_data[\"data\"][\"1\"][\"quotes\"][\"USD\"][\"price\"]\n",
    "print(btc_price)"
   ]
  },
  {
   "cell_type": "code",
   "execution_count": 55,
   "metadata": {},
   "outputs": [
    {
     "output_type": "stream",
     "name": "stdout",
     "text": [
      "383.95\n"
     ]
    }
   ],
   "source": [
    "# Fetch current ETH prics\n",
    "eth_price = eth_data[\"data\"][\"1027\"][\"quotes\"][\"USD\"][\"price\"]\n",
    "print(eth_price)"
   ]
  },
  {
   "cell_type": "code",
   "execution_count": 73,
   "metadata": {},
   "outputs": [
    {
     "output_type": "stream",
     "name": "stdout",
     "text": [
      "13751.244\n2034.935\n"
     ]
    }
   ],
   "source": [
    "# Compute current value of my crypto\n",
    "my_btc_value = my_btc * btc_price\n",
    "my_eth_value = my_eth * eth_price\n",
    "print(my_btc_value)\n",
    "print(my_eth_value)"
   ]
  },
  {
   "cell_type": "code",
   "execution_count": 75,
   "metadata": {},
   "outputs": [
    {
     "output_type": "stream",
     "name": "stdout",
     "text": [
      "The current value of your 1.2 BTC is $13751.244\nThe current value of your 5.3 ETH is $2034.935\n"
     ]
    }
   ],
   "source": [
    "# print current crypto wallet balance\n",
    "print(f\"The current value of your {my_btc} BTC is ${my_btc_value}\")\n",
    "print(f\"The current value of your {my_eth} ETH is ${my_eth_value}\")"
   ]
  },
  {
   "cell_type": "code",
   "execution_count": 76,
   "metadata": {},
   "outputs": [],
   "source": [
    "## Collect Investments Data Using Alpaca: SPY(stocks) and AGG (bonds)"
   ]
  },
  {
   "cell_type": "code",
   "execution_count": 147,
   "metadata": {},
   "outputs": [],
   "source": [
    "# Current amount of shares\n",
    "shares_data = {\"shares\": [200, 50]}"
   ]
  },
  {
   "cell_type": "code",
   "execution_count": 148,
   "metadata": {},
   "outputs": [],
   "source": [
    "# Set alpaca API key and secret\n",
    "alpaca_api_key = os.getenv(\"ALPACA_API_KEY\")\n",
    "alpaca_secret_key = os.getenv(\"ALPACA_SECRET_KEY\")"
   ]
  },
  {
   "cell_type": "code",
   "execution_count": 149,
   "metadata": {},
   "outputs": [
    {
     "output_type": "stream",
     "name": "stdout",
     "text": [
      "Alpaca Key Type: <class 'str'>\nAlpaca Secret Key Type: <class 'str'>\n"
     ]
    }
   ],
   "source": [
    "# Verify that Aplaca key and secret were correctly loaded\n",
    "print(f\"Alpaca Key Type: {type(alpaca_api_key)}\")\n",
    "print(f\"Alpaca Secret Key Type: {type(alpaca_secret_key)}\")"
   ]
  },
  {
   "cell_type": "code",
   "execution_count": 150,
   "metadata": {},
   "outputs": [],
   "source": [
    "# Create the Alpaca API object\n",
    "alpaca = tradeapi.REST(alpaca_api_key, alpaca_secret_key, api_version=\"v2\")"
   ]
  },
  {
   "cell_type": "code",
   "execution_count": 151,
   "metadata": {},
   "outputs": [
    {
     "output_type": "execute_result",
     "data": {
      "text/plain": [
       "                              AGG                                      SPY  \\\n",
       "                             open    high    low    close   volume    open   \n",
       "2020-10-09 00:00:00-04:00  117.65  117.74  117.5  117.705  2750029  345.56   \n",
       "\n",
       "                                                             \n",
       "                             high     low   close    volume  \n",
       "2020-10-09 00:00:00-04:00  347.35  344.89  346.84  45969566  "
      ],
      "text/html": "<div>\n<style scoped>\n    .dataframe tbody tr th:only-of-type {\n        vertical-align: middle;\n    }\n\n    .dataframe tbody tr th {\n        vertical-align: top;\n    }\n\n    .dataframe thead tr th {\n        text-align: left;\n    }\n</style>\n<table border=\"1\" class=\"dataframe\">\n  <thead>\n    <tr>\n      <th></th>\n      <th colspan=\"5\" halign=\"left\">AGG</th>\n      <th colspan=\"5\" halign=\"left\">SPY</th>\n    </tr>\n    <tr>\n      <th></th>\n      <th>open</th>\n      <th>high</th>\n      <th>low</th>\n      <th>close</th>\n      <th>volume</th>\n      <th>open</th>\n      <th>high</th>\n      <th>low</th>\n      <th>close</th>\n      <th>volume</th>\n    </tr>\n  </thead>\n  <tbody>\n    <tr>\n      <th>2020-10-09 00:00:00-04:00</th>\n      <td>117.65</td>\n      <td>117.74</td>\n      <td>117.5</td>\n      <td>117.705</td>\n      <td>2750029</td>\n      <td>345.56</td>\n      <td>347.35</td>\n      <td>344.89</td>\n      <td>346.84</td>\n      <td>45969566</td>\n    </tr>\n  </tbody>\n</table>\n</div>"
     },
     "metadata": {},
     "execution_count": 151
    }
   ],
   "source": [
    "# Format current date as ISO format\n",
    "today = pd.Timestamp(\"2020-10-09\", tz=\"America/New_York\").isoformat()\n",
    "\n",
    "# Set the tickers\n",
    "tickers = [\"AGG\", \"SPY\"]\n",
    "\n",
    "# Set timeframe to '1D' for Alpaca API\n",
    "timeframe = \"1D\"\n",
    "\n",
    "# Get current closing prices for SPY and AGG\n",
    "df_ticker = alpaca.get_barset(tickers, timeframe, start=today, end=today).df\n",
    "\n",
    "# Preview DataFrame\n",
    "df_ticker.head()"
   ]
  },
  {
   "cell_type": "code",
   "execution_count": 152,
   "metadata": {},
   "outputs": [
    {
     "output_type": "stream",
     "name": "stdout",
     "text": [
      "Current AGG closing price: $117.705\nCurrent SPY closing price: $346.84\n"
     ]
    }
   ],
   "source": [
    "# Pick AGG and SPY close prices\n",
    "agg_close_price = float(df_ticker[\"AGG\"][\"close\"])\n",
    "spy_close_price = float(df_ticker[\"SPY\"][\"close\"])\n",
    "\n",
    "# print AGg and SPY close prices\n",
    "print(f\"Current AGG closing price: ${agg_close_price}\")\n",
    "print(f\"Current SPY closing price: ${spy_close_price}\")"
   ]
  },
  {
   "cell_type": "code",
   "execution_count": 155,
   "metadata": {},
   "outputs": [
    {
     "output_type": "stream",
     "name": "stdout",
     "text": [
      "The current value of the 200 AGG shares is $23541.00\nThe current value of the 50 SPY shares is $17342.00\n"
     ]
    }
   ],
   "source": [
    "# Compute the current value of shares\n",
    "df_shares = pd.DataFrame(shares_data, index=tickers)\n",
    "\n",
    "agg_value = agg_close_price * df_shares.loc[\"AGG\"][\"shares\"]\n",
    "spy_value = spy_close_price * df_shares.loc[\"SPY\"][\"shares\"]\n",
    "# Print current value of share\n",
    "print(f\"The current value of the {df_shares.loc['AGG']['shares']} AGG shares is ${agg_value:0.2f}\")\n",
    "print(f\"The current value of the {df_shares.loc['SPY']['shares']} SPY shares is ${spy_value:0.2f}\")"
   ]
  },
  {
   "cell_type": "code",
   "execution_count": 94,
   "metadata": {},
   "outputs": [],
   "source": [
    "## Savings Health Analysis "
   ]
  },
  {
   "cell_type": "code",
   "execution_count": 226,
   "metadata": {},
   "outputs": [
    {
     "output_type": "stream",
     "name": "stdout",
     "text": [
      "           Amount\n                 \ncrypto  15786.179\nshares  40883.000\n"
     ]
    }
   ],
   "source": [
    "# Set monthly household income\n",
    "monthly_income = 1200\n",
    "\n",
    "# Create savings DataFrame\n",
    "crypto_total = my_btc_value + my_eth_value\n",
    "shares_total = spy_value + agg_value\n",
    "\n",
    "value_data = {\"\":['crypto', 'shares'], \"Amount\": [crypto_total, shares_total]}\n",
    "\n",
    "df_savings = pd.DataFrame(value_data)\n",
    "\n",
    "df_savings = df_savings.set_index(\"\")\n",
    "\n",
    "# Display savings DataFrame\n",
    "print(df_savings)"
   ]
  },
  {
   "cell_type": "code",
   "execution_count": 229,
   "metadata": {},
   "outputs": [
    {
     "output_type": "execute_result",
     "data": {
      "text/plain": [
       "<matplotlib.axes._subplots.AxesSubplot at 0x7f89b09e3e80>"
      ]
     },
     "metadata": {},
     "execution_count": 229
    },
    {
     "output_type": "display_data",
     "data": {
      "text/plain": "<Figure size 432x288 with 1 Axes>",
      "image/svg+xml": "<?xml version=\"1.0\" encoding=\"utf-8\" standalone=\"no\"?>\n<!DOCTYPE svg PUBLIC \"-//W3C//DTD SVG 1.1//EN\"\n  \"http://www.w3.org/Graphics/SVG/1.1/DTD/svg11.dtd\">\n<!-- Created with matplotlib (https://matplotlib.org/) -->\n<svg height=\"246.958125pt\" version=\"1.1\" viewBox=\"0 0 245.518125 246.958125\" width=\"245.518125pt\" xmlns=\"http://www.w3.org/2000/svg\" xmlns:xlink=\"http://www.w3.org/1999/xlink\">\n <defs>\n  <style type=\"text/css\">\n*{stroke-linecap:butt;stroke-linejoin:round;}\n  </style>\n </defs>\n <g id=\"figure_1\">\n  <g id=\"patch_1\">\n   <path d=\"M 0 246.958125 \nL 245.518125 246.958125 \nL 245.518125 0 \nL 0 0 \nz\n\" style=\"fill:none;\"/>\n  </g>\n  <g id=\"axes_1\">\n   <g id=\"patch_2\">\n    <path d=\"M 216.574125 131.038125 \nC 216.574125 118.301637 213.776489 105.719244 208.379505 94.18275 \nC 202.982522 82.646256 195.116783 72.434814 185.339792 64.272182 \nC 175.5628 56.10955 164.111132 50.193242 151.79645 46.94259 \nC 139.481768 43.691939 126.602056 43.185599 114.070189 45.459461 \nL 129.598125 131.038125 \nL 216.574125 131.038125 \nz\n\" style=\"fill:#1f77b4;\"/>\n   </g>\n   <g id=\"patch_3\">\n    <path d=\"M 114.070189 45.459461 \nC 97.799574 48.411704 82.703429 55.94378 70.560208 67.168344 \nC 58.416987 78.392908 49.723041 92.851161 45.502592 108.839796 \nC 41.282142 124.828431 41.707697 141.693918 46.729124 157.449359 \nC 51.750551 173.2048 61.162601 187.206196 73.856452 197.804063 \nC 86.550304 208.40193 102.007101 215.163083 118.4059 217.291001 \nC 134.804699 219.418919 151.475205 216.826624 166.453489 209.819511 \nC 181.431774 202.812397 194.105604 191.676878 202.981895 177.724813 \nC 211.858186 163.772749 216.574122 147.574424 216.574125 131.038141 \nL 129.598125 131.038125 \nL 114.070189 45.459461 \nz\n\" style=\"fill:#ff7f0e;\"/>\n   </g>\n   <g id=\"matplotlib.axis_1\"/>\n   <g id=\"matplotlib.axis_2\">\n    <g id=\"text_1\">\n     <!-- Amount -->\n     <defs>\n      <path d=\"M 34.1875 63.1875 \nL 20.796875 26.90625 \nL 47.609375 26.90625 \nz\nM 28.609375 72.90625 \nL 39.796875 72.90625 \nL 67.578125 0 \nL 57.328125 0 \nL 50.6875 18.703125 \nL 17.828125 18.703125 \nL 11.1875 0 \nL 0.78125 0 \nz\n\" id=\"DejaVuSans-65\"/>\n      <path d=\"M 52 44.1875 \nQ 55.375 50.25 60.0625 53.125 \nQ 64.75 56 71.09375 56 \nQ 79.640625 56 84.28125 50.015625 \nQ 88.921875 44.046875 88.921875 33.015625 \nL 88.921875 0 \nL 79.890625 0 \nL 79.890625 32.71875 \nQ 79.890625 40.578125 77.09375 44.375 \nQ 74.3125 48.1875 68.609375 48.1875 \nQ 61.625 48.1875 57.5625 43.546875 \nQ 53.515625 38.921875 53.515625 30.90625 \nL 53.515625 0 \nL 44.484375 0 \nL 44.484375 32.71875 \nQ 44.484375 40.625 41.703125 44.40625 \nQ 38.921875 48.1875 33.109375 48.1875 \nQ 26.21875 48.1875 22.15625 43.53125 \nQ 18.109375 38.875 18.109375 30.90625 \nL 18.109375 0 \nL 9.078125 0 \nL 9.078125 54.6875 \nL 18.109375 54.6875 \nL 18.109375 46.1875 \nQ 21.1875 51.21875 25.484375 53.609375 \nQ 29.78125 56 35.6875 56 \nQ 41.65625 56 45.828125 52.96875 \nQ 50 49.953125 52 44.1875 \nz\n\" id=\"DejaVuSans-109\"/>\n      <path d=\"M 30.609375 48.390625 \nQ 23.390625 48.390625 19.1875 42.75 \nQ 14.984375 37.109375 14.984375 27.296875 \nQ 14.984375 17.484375 19.15625 11.84375 \nQ 23.34375 6.203125 30.609375 6.203125 \nQ 37.796875 6.203125 41.984375 11.859375 \nQ 46.1875 17.53125 46.1875 27.296875 \nQ 46.1875 37.015625 41.984375 42.703125 \nQ 37.796875 48.390625 30.609375 48.390625 \nz\nM 30.609375 56 \nQ 42.328125 56 49.015625 48.375 \nQ 55.71875 40.765625 55.71875 27.296875 \nQ 55.71875 13.875 49.015625 6.21875 \nQ 42.328125 -1.421875 30.609375 -1.421875 \nQ 18.84375 -1.421875 12.171875 6.21875 \nQ 5.515625 13.875 5.515625 27.296875 \nQ 5.515625 40.765625 12.171875 48.375 \nQ 18.84375 56 30.609375 56 \nz\n\" id=\"DejaVuSans-111\"/>\n      <path d=\"M 8.5 21.578125 \nL 8.5 54.6875 \nL 17.484375 54.6875 \nL 17.484375 21.921875 \nQ 17.484375 14.15625 20.5 10.265625 \nQ 23.53125 6.390625 29.59375 6.390625 \nQ 36.859375 6.390625 41.078125 11.03125 \nQ 45.3125 15.671875 45.3125 23.6875 \nL 45.3125 54.6875 \nL 54.296875 54.6875 \nL 54.296875 0 \nL 45.3125 0 \nL 45.3125 8.40625 \nQ 42.046875 3.421875 37.71875 1 \nQ 33.40625 -1.421875 27.6875 -1.421875 \nQ 18.265625 -1.421875 13.375 4.4375 \nQ 8.5 10.296875 8.5 21.578125 \nz\nM 31.109375 56 \nz\n\" id=\"DejaVuSans-117\"/>\n      <path d=\"M 54.890625 33.015625 \nL 54.890625 0 \nL 45.90625 0 \nL 45.90625 32.71875 \nQ 45.90625 40.484375 42.875 44.328125 \nQ 39.84375 48.1875 33.796875 48.1875 \nQ 26.515625 48.1875 22.3125 43.546875 \nQ 18.109375 38.921875 18.109375 30.90625 \nL 18.109375 0 \nL 9.078125 0 \nL 9.078125 54.6875 \nL 18.109375 54.6875 \nL 18.109375 46.1875 \nQ 21.34375 51.125 25.703125 53.5625 \nQ 30.078125 56 35.796875 56 \nQ 45.21875 56 50.046875 50.171875 \nQ 54.890625 44.34375 54.890625 33.015625 \nz\n\" id=\"DejaVuSans-110\"/>\n      <path d=\"M 18.3125 70.21875 \nL 18.3125 54.6875 \nL 36.8125 54.6875 \nL 36.8125 47.703125 \nL 18.3125 47.703125 \nL 18.3125 18.015625 \nQ 18.3125 11.328125 20.140625 9.421875 \nQ 21.96875 7.515625 27.59375 7.515625 \nL 36.8125 7.515625 \nL 36.8125 0 \nL 27.59375 0 \nQ 17.1875 0 13.234375 3.875 \nQ 9.28125 7.765625 9.28125 18.015625 \nL 9.28125 47.703125 \nL 2.6875 47.703125 \nL 2.6875 54.6875 \nL 9.28125 54.6875 \nL 9.28125 70.21875 \nz\n\" id=\"DejaVuSans-116\"/>\n     </defs>\n     <g transform=\"translate(14.798438 150.685781)rotate(-90)scale(0.1 -0.1)\">\n      <use xlink:href=\"#DejaVuSans-65\"/>\n      <use x=\"68.408203\" xlink:href=\"#DejaVuSans-109\"/>\n      <use x=\"165.820312\" xlink:href=\"#DejaVuSans-111\"/>\n      <use x=\"227.001953\" xlink:href=\"#DejaVuSans-117\"/>\n      <use x=\"290.380859\" xlink:href=\"#DejaVuSans-110\"/>\n      <use x=\"353.759766\" xlink:href=\"#DejaVuSans-116\"/>\n     </g>\n    </g>\n   </g>\n   <g id=\"text_2\">\n    <!-- crypto -->\n    <defs>\n     <path d=\"M 48.78125 52.59375 \nL 48.78125 44.1875 \nQ 44.96875 46.296875 41.140625 47.34375 \nQ 37.3125 48.390625 33.40625 48.390625 \nQ 24.65625 48.390625 19.8125 42.84375 \nQ 14.984375 37.3125 14.984375 27.296875 \nQ 14.984375 17.28125 19.8125 11.734375 \nQ 24.65625 6.203125 33.40625 6.203125 \nQ 37.3125 6.203125 41.140625 7.25 \nQ 44.96875 8.296875 48.78125 10.40625 \nL 48.78125 2.09375 \nQ 45.015625 0.34375 40.984375 -0.53125 \nQ 36.96875 -1.421875 32.421875 -1.421875 \nQ 20.0625 -1.421875 12.78125 6.34375 \nQ 5.515625 14.109375 5.515625 27.296875 \nQ 5.515625 40.671875 12.859375 48.328125 \nQ 20.21875 56 33.015625 56 \nQ 37.15625 56 41.109375 55.140625 \nQ 45.0625 54.296875 48.78125 52.59375 \nz\n\" id=\"DejaVuSans-99\"/>\n     <path d=\"M 41.109375 46.296875 \nQ 39.59375 47.171875 37.8125 47.578125 \nQ 36.03125 48 33.890625 48 \nQ 26.265625 48 22.1875 43.046875 \nQ 18.109375 38.09375 18.109375 28.8125 \nL 18.109375 0 \nL 9.078125 0 \nL 9.078125 54.6875 \nL 18.109375 54.6875 \nL 18.109375 46.1875 \nQ 20.953125 51.171875 25.484375 53.578125 \nQ 30.03125 56 36.53125 56 \nQ 37.453125 56 38.578125 55.875 \nQ 39.703125 55.765625 41.0625 55.515625 \nz\n\" id=\"DejaVuSans-114\"/>\n     <path d=\"M 32.171875 -5.078125 \nQ 28.375 -14.84375 24.75 -17.8125 \nQ 21.140625 -20.796875 15.09375 -20.796875 \nL 7.90625 -20.796875 \nL 7.90625 -13.28125 \nL 13.1875 -13.28125 \nQ 16.890625 -13.28125 18.9375 -11.515625 \nQ 21 -9.765625 23.484375 -3.21875 \nL 25.09375 0.875 \nL 2.984375 54.6875 \nL 12.5 54.6875 \nL 29.59375 11.921875 \nL 46.6875 54.6875 \nL 56.203125 54.6875 \nz\n\" id=\"DejaVuSans-121\"/>\n     <path d=\"M 18.109375 8.203125 \nL 18.109375 -20.796875 \nL 9.078125 -20.796875 \nL 9.078125 54.6875 \nL 18.109375 54.6875 \nL 18.109375 46.390625 \nQ 20.953125 51.265625 25.265625 53.625 \nQ 29.59375 56 35.59375 56 \nQ 45.5625 56 51.78125 48.09375 \nQ 58.015625 40.1875 58.015625 27.296875 \nQ 58.015625 14.40625 51.78125 6.484375 \nQ 45.5625 -1.421875 35.59375 -1.421875 \nQ 29.59375 -1.421875 25.265625 0.953125 \nQ 20.953125 3.328125 18.109375 8.203125 \nz\nM 48.6875 27.296875 \nQ 48.6875 37.203125 44.609375 42.84375 \nQ 40.53125 48.484375 33.40625 48.484375 \nQ 26.265625 48.484375 22.1875 42.84375 \nQ 18.109375 37.203125 18.109375 27.296875 \nQ 18.109375 17.390625 22.1875 11.75 \nQ 26.265625 6.109375 33.40625 6.109375 \nQ 40.53125 6.109375 44.609375 11.75 \nQ 48.6875 17.390625 48.6875 27.296875 \nz\n\" id=\"DejaVuSans-112\"/>\n    </defs>\n    <g transform=\"translate(190.913958 60.354962)scale(0.1 -0.1)\">\n     <use xlink:href=\"#DejaVuSans-99\"/>\n     <use x=\"54.980469\" xlink:href=\"#DejaVuSans-114\"/>\n     <use x=\"96.09375\" xlink:href=\"#DejaVuSans-121\"/>\n     <use x=\"155.273438\" xlink:href=\"#DejaVuSans-112\"/>\n     <use x=\"218.75\" xlink:href=\"#DejaVuSans-116\"/>\n     <use x=\"257.958984\" xlink:href=\"#DejaVuSans-111\"/>\n    </g>\n   </g>\n   <g id=\"text_3\">\n    <!-- shares -->\n    <defs>\n     <path d=\"M 44.28125 53.078125 \nL 44.28125 44.578125 \nQ 40.484375 46.53125 36.375 47.5 \nQ 32.28125 48.484375 27.875 48.484375 \nQ 21.1875 48.484375 17.84375 46.4375 \nQ 14.5 44.390625 14.5 40.28125 \nQ 14.5 37.15625 16.890625 35.375 \nQ 19.28125 33.59375 26.515625 31.984375 \nL 29.59375 31.296875 \nQ 39.15625 29.25 43.1875 25.515625 \nQ 47.21875 21.78125 47.21875 15.09375 \nQ 47.21875 7.46875 41.1875 3.015625 \nQ 35.15625 -1.421875 24.609375 -1.421875 \nQ 20.21875 -1.421875 15.453125 -0.5625 \nQ 10.6875 0.296875 5.421875 2 \nL 5.421875 11.28125 \nQ 10.40625 8.6875 15.234375 7.390625 \nQ 20.0625 6.109375 24.8125 6.109375 \nQ 31.15625 6.109375 34.5625 8.28125 \nQ 37.984375 10.453125 37.984375 14.40625 \nQ 37.984375 18.0625 35.515625 20.015625 \nQ 33.0625 21.96875 24.703125 23.78125 \nL 21.578125 24.515625 \nQ 13.234375 26.265625 9.515625 29.90625 \nQ 5.8125 33.546875 5.8125 39.890625 \nQ 5.8125 47.609375 11.28125 51.796875 \nQ 16.75 56 26.8125 56 \nQ 31.78125 56 36.171875 55.265625 \nQ 40.578125 54.546875 44.28125 53.078125 \nz\n\" id=\"DejaVuSans-115\"/>\n     <path d=\"M 54.890625 33.015625 \nL 54.890625 0 \nL 45.90625 0 \nL 45.90625 32.71875 \nQ 45.90625 40.484375 42.875 44.328125 \nQ 39.84375 48.1875 33.796875 48.1875 \nQ 26.515625 48.1875 22.3125 43.546875 \nQ 18.109375 38.921875 18.109375 30.90625 \nL 18.109375 0 \nL 9.078125 0 \nL 9.078125 75.984375 \nL 18.109375 75.984375 \nL 18.109375 46.1875 \nQ 21.34375 51.125 25.703125 53.5625 \nQ 30.078125 56 35.796875 56 \nQ 45.21875 56 50.046875 50.171875 \nQ 54.890625 44.34375 54.890625 33.015625 \nz\n\" id=\"DejaVuSans-104\"/>\n     <path d=\"M 34.28125 27.484375 \nQ 23.390625 27.484375 19.1875 25 \nQ 14.984375 22.515625 14.984375 16.5 \nQ 14.984375 11.71875 18.140625 8.90625 \nQ 21.296875 6.109375 26.703125 6.109375 \nQ 34.1875 6.109375 38.703125 11.40625 \nQ 43.21875 16.703125 43.21875 25.484375 \nL 43.21875 27.484375 \nz\nM 52.203125 31.203125 \nL 52.203125 0 \nL 43.21875 0 \nL 43.21875 8.296875 \nQ 40.140625 3.328125 35.546875 0.953125 \nQ 30.953125 -1.421875 24.3125 -1.421875 \nQ 15.921875 -1.421875 10.953125 3.296875 \nQ 6 8.015625 6 15.921875 \nQ 6 25.140625 12.171875 29.828125 \nQ 18.359375 34.515625 30.609375 34.515625 \nL 43.21875 34.515625 \nL 43.21875 35.40625 \nQ 43.21875 41.609375 39.140625 45 \nQ 35.0625 48.390625 27.6875 48.390625 \nQ 23 48.390625 18.546875 47.265625 \nQ 14.109375 46.140625 10.015625 43.890625 \nL 10.015625 52.203125 \nQ 14.9375 54.109375 19.578125 55.046875 \nQ 24.21875 56 28.609375 56 \nQ 40.484375 56 46.34375 49.84375 \nQ 52.203125 43.703125 52.203125 31.203125 \nz\n\" id=\"DejaVuSans-97\"/>\n     <path d=\"M 56.203125 29.59375 \nL 56.203125 25.203125 \nL 14.890625 25.203125 \nQ 15.484375 15.921875 20.484375 11.0625 \nQ 25.484375 6.203125 34.421875 6.203125 \nQ 39.59375 6.203125 44.453125 7.46875 \nQ 49.3125 8.734375 54.109375 11.28125 \nL 54.109375 2.78125 \nQ 49.265625 0.734375 44.1875 -0.34375 \nQ 39.109375 -1.421875 33.890625 -1.421875 \nQ 20.796875 -1.421875 13.15625 6.1875 \nQ 5.515625 13.8125 5.515625 26.8125 \nQ 5.515625 40.234375 12.765625 48.109375 \nQ 20.015625 56 32.328125 56 \nQ 43.359375 56 49.78125 48.890625 \nQ 56.203125 41.796875 56.203125 29.59375 \nz\nM 47.21875 32.234375 \nQ 47.125 39.59375 43.09375 43.984375 \nQ 39.0625 48.390625 32.421875 48.390625 \nQ 24.90625 48.390625 20.390625 44.140625 \nQ 15.875 39.890625 15.1875 32.171875 \nz\n\" id=\"DejaVuSans-101\"/>\n    </defs>\n    <g transform=\"translate(35.358847 207.240032)scale(0.1 -0.1)\">\n     <use xlink:href=\"#DejaVuSans-115\"/>\n     <use x=\"52.099609\" xlink:href=\"#DejaVuSans-104\"/>\n     <use x=\"115.478516\" xlink:href=\"#DejaVuSans-97\"/>\n     <use x=\"176.757812\" xlink:href=\"#DejaVuSans-114\"/>\n     <use x=\"215.621094\" xlink:href=\"#DejaVuSans-101\"/>\n     <use x=\"277.144531\" xlink:href=\"#DejaVuSans-115\"/>\n    </g>\n   </g>\n   <g id=\"text_4\">\n    <!-- Composition of Personal Savings -->\n    <defs>\n     <path d=\"M 64.40625 67.28125 \nL 64.40625 56.890625 \nQ 59.421875 61.53125 53.78125 63.8125 \nQ 48.140625 66.109375 41.796875 66.109375 \nQ 29.296875 66.109375 22.65625 58.46875 \nQ 16.015625 50.828125 16.015625 36.375 \nQ 16.015625 21.96875 22.65625 14.328125 \nQ 29.296875 6.6875 41.796875 6.6875 \nQ 48.140625 6.6875 53.78125 8.984375 \nQ 59.421875 11.28125 64.40625 15.921875 \nL 64.40625 5.609375 \nQ 59.234375 2.09375 53.4375 0.328125 \nQ 47.65625 -1.421875 41.21875 -1.421875 \nQ 24.65625 -1.421875 15.125 8.703125 \nQ 5.609375 18.84375 5.609375 36.375 \nQ 5.609375 53.953125 15.125 64.078125 \nQ 24.65625 74.21875 41.21875 74.21875 \nQ 47.75 74.21875 53.53125 72.484375 \nQ 59.328125 70.75 64.40625 67.28125 \nz\n\" id=\"DejaVuSans-67\"/>\n     <path d=\"M 9.421875 54.6875 \nL 18.40625 54.6875 \nL 18.40625 0 \nL 9.421875 0 \nz\nM 9.421875 75.984375 \nL 18.40625 75.984375 \nL 18.40625 64.59375 \nL 9.421875 64.59375 \nz\n\" id=\"DejaVuSans-105\"/>\n     <path id=\"DejaVuSans-32\"/>\n     <path d=\"M 37.109375 75.984375 \nL 37.109375 68.5 \nL 28.515625 68.5 \nQ 23.6875 68.5 21.796875 66.546875 \nQ 19.921875 64.59375 19.921875 59.515625 \nL 19.921875 54.6875 \nL 34.71875 54.6875 \nL 34.71875 47.703125 \nL 19.921875 47.703125 \nL 19.921875 0 \nL 10.890625 0 \nL 10.890625 47.703125 \nL 2.296875 47.703125 \nL 2.296875 54.6875 \nL 10.890625 54.6875 \nL 10.890625 58.5 \nQ 10.890625 67.625 15.140625 71.796875 \nQ 19.390625 75.984375 28.609375 75.984375 \nz\n\" id=\"DejaVuSans-102\"/>\n     <path d=\"M 19.671875 64.796875 \nL 19.671875 37.40625 \nL 32.078125 37.40625 \nQ 38.96875 37.40625 42.71875 40.96875 \nQ 46.484375 44.53125 46.484375 51.125 \nQ 46.484375 57.671875 42.71875 61.234375 \nQ 38.96875 64.796875 32.078125 64.796875 \nz\nM 9.8125 72.90625 \nL 32.078125 72.90625 \nQ 44.34375 72.90625 50.609375 67.359375 \nQ 56.890625 61.8125 56.890625 51.125 \nQ 56.890625 40.328125 50.609375 34.8125 \nQ 44.34375 29.296875 32.078125 29.296875 \nL 19.671875 29.296875 \nL 19.671875 0 \nL 9.8125 0 \nz\n\" id=\"DejaVuSans-80\"/>\n     <path d=\"M 9.421875 75.984375 \nL 18.40625 75.984375 \nL 18.40625 0 \nL 9.421875 0 \nz\n\" id=\"DejaVuSans-108\"/>\n     <path d=\"M 53.515625 70.515625 \nL 53.515625 60.890625 \nQ 47.90625 63.578125 42.921875 64.890625 \nQ 37.9375 66.21875 33.296875 66.21875 \nQ 25.25 66.21875 20.875 63.09375 \nQ 16.5 59.96875 16.5 54.203125 \nQ 16.5 49.359375 19.40625 46.890625 \nQ 22.3125 44.4375 30.421875 42.921875 \nL 36.375 41.703125 \nQ 47.40625 39.59375 52.65625 34.296875 \nQ 57.90625 29 57.90625 20.125 \nQ 57.90625 9.515625 50.796875 4.046875 \nQ 43.703125 -1.421875 29.984375 -1.421875 \nQ 24.8125 -1.421875 18.96875 -0.25 \nQ 13.140625 0.921875 6.890625 3.21875 \nL 6.890625 13.375 \nQ 12.890625 10.015625 18.65625 8.296875 \nQ 24.421875 6.59375 29.984375 6.59375 \nQ 38.421875 6.59375 43.015625 9.90625 \nQ 47.609375 13.234375 47.609375 19.390625 \nQ 47.609375 24.75 44.3125 27.78125 \nQ 41.015625 30.8125 33.5 32.328125 \nL 27.484375 33.5 \nQ 16.453125 35.6875 11.515625 40.375 \nQ 6.59375 45.0625 6.59375 53.421875 \nQ 6.59375 63.09375 13.40625 68.65625 \nQ 20.21875 74.21875 32.171875 74.21875 \nQ 37.3125 74.21875 42.625 73.28125 \nQ 47.953125 72.359375 53.515625 70.515625 \nz\n\" id=\"DejaVuSans-83\"/>\n     <path d=\"M 2.984375 54.6875 \nL 12.5 54.6875 \nL 29.59375 8.796875 \nL 46.6875 54.6875 \nL 56.203125 54.6875 \nL 35.6875 0 \nL 23.484375 0 \nz\n\" id=\"DejaVuSans-118\"/>\n     <path d=\"M 45.40625 27.984375 \nQ 45.40625 37.75 41.375 43.109375 \nQ 37.359375 48.484375 30.078125 48.484375 \nQ 22.859375 48.484375 18.828125 43.109375 \nQ 14.796875 37.75 14.796875 27.984375 \nQ 14.796875 18.265625 18.828125 12.890625 \nQ 22.859375 7.515625 30.078125 7.515625 \nQ 37.359375 7.515625 41.375 12.890625 \nQ 45.40625 18.265625 45.40625 27.984375 \nz\nM 54.390625 6.78125 \nQ 54.390625 -7.171875 48.1875 -13.984375 \nQ 42 -20.796875 29.203125 -20.796875 \nQ 24.46875 -20.796875 20.265625 -20.09375 \nQ 16.0625 -19.390625 12.109375 -17.921875 \nL 12.109375 -9.1875 \nQ 16.0625 -11.328125 19.921875 -12.34375 \nQ 23.78125 -13.375 27.78125 -13.375 \nQ 36.625 -13.375 41.015625 -8.765625 \nQ 45.40625 -4.15625 45.40625 5.171875 \nL 45.40625 9.625 \nQ 42.625 4.78125 38.28125 2.390625 \nQ 33.9375 0 27.875 0 \nQ 17.828125 0 11.671875 7.65625 \nQ 5.515625 15.328125 5.515625 27.984375 \nQ 5.515625 40.671875 11.671875 48.328125 \nQ 17.828125 56 27.875 56 \nQ 33.9375 56 38.28125 53.609375 \nQ 42.625 51.21875 45.40625 46.390625 \nL 45.40625 54.6875 \nL 54.390625 54.6875 \nz\n\" id=\"DejaVuSans-103\"/>\n    </defs>\n    <g transform=\"translate(31.68 16.318125)scale(0.12 -0.12)\">\n     <use xlink:href=\"#DejaVuSans-67\"/>\n     <use x=\"69.824219\" xlink:href=\"#DejaVuSans-111\"/>\n     <use x=\"131.005859\" xlink:href=\"#DejaVuSans-109\"/>\n     <use x=\"228.417969\" xlink:href=\"#DejaVuSans-112\"/>\n     <use x=\"291.894531\" xlink:href=\"#DejaVuSans-111\"/>\n     <use x=\"353.076172\" xlink:href=\"#DejaVuSans-115\"/>\n     <use x=\"405.175781\" xlink:href=\"#DejaVuSans-105\"/>\n     <use x=\"432.958984\" xlink:href=\"#DejaVuSans-116\"/>\n     <use x=\"472.167969\" xlink:href=\"#DejaVuSans-105\"/>\n     <use x=\"499.951172\" xlink:href=\"#DejaVuSans-111\"/>\n     <use x=\"561.132812\" xlink:href=\"#DejaVuSans-110\"/>\n     <use x=\"624.511719\" xlink:href=\"#DejaVuSans-32\"/>\n     <use x=\"656.298828\" xlink:href=\"#DejaVuSans-111\"/>\n     <use x=\"717.480469\" xlink:href=\"#DejaVuSans-102\"/>\n     <use x=\"752.685547\" xlink:href=\"#DejaVuSans-32\"/>\n     <use x=\"784.472656\" xlink:href=\"#DejaVuSans-80\"/>\n     <use x=\"841.150391\" xlink:href=\"#DejaVuSans-101\"/>\n     <use x=\"902.673828\" xlink:href=\"#DejaVuSans-114\"/>\n     <use x=\"943.787109\" xlink:href=\"#DejaVuSans-115\"/>\n     <use x=\"995.886719\" xlink:href=\"#DejaVuSans-111\"/>\n     <use x=\"1057.068359\" xlink:href=\"#DejaVuSans-110\"/>\n     <use x=\"1120.447266\" xlink:href=\"#DejaVuSans-97\"/>\n     <use x=\"1181.726562\" xlink:href=\"#DejaVuSans-108\"/>\n     <use x=\"1209.509766\" xlink:href=\"#DejaVuSans-32\"/>\n     <use x=\"1241.296875\" xlink:href=\"#DejaVuSans-83\"/>\n     <use x=\"1304.773438\" xlink:href=\"#DejaVuSans-97\"/>\n     <use x=\"1366.052734\" xlink:href=\"#DejaVuSans-118\"/>\n     <use x=\"1425.232422\" xlink:href=\"#DejaVuSans-105\"/>\n     <use x=\"1453.015625\" xlink:href=\"#DejaVuSans-110\"/>\n     <use x=\"1516.394531\" xlink:href=\"#DejaVuSans-103\"/>\n     <use x=\"1579.871094\" xlink:href=\"#DejaVuSans-115\"/>\n    </g>\n   </g>\n   <g id=\"legend_1\">\n    <g id=\"patch_4\">\n     <path d=\"M 27.878125 59.674375 \nL 92.801563 59.674375 \nQ 94.801563 59.674375 94.801563 57.674375 \nL 94.801563 29.318125 \nQ 94.801563 27.318125 92.801563 27.318125 \nL 27.878125 27.318125 \nQ 25.878125 27.318125 25.878125 29.318125 \nL 25.878125 57.674375 \nQ 25.878125 59.674375 27.878125 59.674375 \nz\n\" style=\"fill:#ffffff;opacity:0.8;stroke:#cccccc;stroke-linejoin:miter;\"/>\n    </g>\n    <g id=\"patch_5\">\n     <path d=\"M 29.878125 38.916563 \nL 49.878125 38.916563 \nL 49.878125 31.916563 \nL 29.878125 31.916563 \nz\n\" style=\"fill:#1f77b4;\"/>\n    </g>\n    <g id=\"text_5\">\n     <!-- crypto -->\n     <g transform=\"translate(57.878125 38.916563)scale(0.1 -0.1)\">\n      <use xlink:href=\"#DejaVuSans-99\"/>\n      <use x=\"54.980469\" xlink:href=\"#DejaVuSans-114\"/>\n      <use x=\"96.09375\" xlink:href=\"#DejaVuSans-121\"/>\n      <use x=\"155.273438\" xlink:href=\"#DejaVuSans-112\"/>\n      <use x=\"218.75\" xlink:href=\"#DejaVuSans-116\"/>\n      <use x=\"257.958984\" xlink:href=\"#DejaVuSans-111\"/>\n     </g>\n    </g>\n    <g id=\"patch_6\">\n     <path d=\"M 29.878125 53.594688 \nL 49.878125 53.594688 \nL 49.878125 46.594688 \nL 29.878125 46.594688 \nz\n\" style=\"fill:#ff7f0e;\"/>\n    </g>\n    <g id=\"text_6\">\n     <!-- shares -->\n     <g transform=\"translate(57.878125 53.594688)scale(0.1 -0.1)\">\n      <use xlink:href=\"#DejaVuSans-115\"/>\n      <use x=\"52.099609\" xlink:href=\"#DejaVuSans-104\"/>\n      <use x=\"115.478516\" xlink:href=\"#DejaVuSans-97\"/>\n      <use x=\"176.757812\" xlink:href=\"#DejaVuSans-114\"/>\n      <use x=\"215.621094\" xlink:href=\"#DejaVuSans-101\"/>\n      <use x=\"277.144531\" xlink:href=\"#DejaVuSans-115\"/>\n     </g>\n    </g>\n   </g>\n  </g>\n </g>\n</svg>\n",
      "image/png": "[encoded data removed]"
     },
     "metadata": {}
    }
   ],
   "source": [
    "# Plot savings pie chart\n",
    "df_savings.plot.pie(y=\"Amount\", title=\"Composition of Personal Savings\")"
   ]
  },
  {
   "cell_type": "code",
   "execution_count": 249,
   "metadata": {},
   "outputs": [
    {
     "output_type": "stream",
     "name": "stdout",
     "text": [
      "Congratulations! You have enough money in your emergency fund.\n"
     ]
    }
   ],
   "source": [
    "# Set ideal emergency fund\n",
    "emergency_fund = monthly_income *3\n",
    "\n",
    "# Calculate total amount of savings \n",
    "total_savings = crypto + shares\n",
    "\n",
    "emergency_fund_difference = emergency_fund - total_savings\n",
    "\n",
    "# Validate saving health\n",
    "if total_savings >= emergency_fund:\n",
    "    print(\"Congratulations! You have enough money in your emergency fund.\") \n",
    "else:\n",
    "    print(\"You are ${emergency_fund_difference} away from reaching your goal.\")\n",
    "    "
   ]
  },
  {
   "cell_type": "code",
   "execution_count": 231,
   "metadata": {},
   "outputs": [],
   "source": [
    "## Part 2 - Retirement Planning"
   ]
  },
  {
   "cell_type": "code",
   "execution_count": 250,
   "metadata": {},
   "outputs": [],
   "source": [
    "# Set start and end dates of five years back from today. \n",
    "# Sample results may vary from the solution based on the time frame chosen\n",
    "start_date_retirement = pd.Timestamp('2015-10-14', tz='America/New_York').isoformat()\n",
    "end_date_retirement = pd.Timestamp('2020-10-14', tz='America/New_York').isoformat()"
   ]
  },
  {
   "cell_type": "code",
   "execution_count": 256,
   "metadata": {
    "tags": []
   },
   "outputs": [
    {
     "output_type": "execute_result",
     "data": {
      "text/plain": [
       "                              AGG                                       \\\n",
       "                             open      high       low   close   volume   \n",
       "2015-10-14 00:00:00-04:00  109.83  110.0500  109.7251  110.03  3785661   \n",
       "2015-10-15 00:00:00-04:00  109.93  110.0499  109.7900  109.89  1792325   \n",
       "2015-10-16 00:00:00-04:00  109.90  109.9400  109.7800  109.78  1497588   \n",
       "2015-10-19 00:00:00-04:00  109.78  109.8950  109.6500  109.85  1289942   \n",
       "2015-10-20 00:00:00-04:00  109.64  109.7800  109.5500  109.65  1672562   \n",
       "\n",
       "                              SPY                                      \n",
       "                             open    high       low   close    volume  \n",
       "2015-10-14 00:00:00-04:00  200.18  200.87  198.9400  199.27  82856686  \n",
       "2015-10-15 00:00:00-04:00  200.08  202.34  199.6400  202.33  96008389  \n",
       "2015-10-16 00:00:00-04:00  202.83  203.29  201.9200  203.14  79323870  \n",
       "2015-10-19 00:00:00-04:00  202.50  203.37  202.1300  203.33  61255929  \n",
       "2015-10-20 00:00:00-04:00  202.85  203.84  202.5471  203.07  60081395  "
      ],
      "text/html": "<div>\n<style scoped>\n    .dataframe tbody tr th:only-of-type {\n        vertical-align: middle;\n    }\n\n    .dataframe tbody tr th {\n        vertical-align: top;\n    }\n\n    .dataframe thead tr th {\n        text-align: left;\n    }\n</style>\n<table border=\"1\" class=\"dataframe\">\n  <thead>\n    <tr>\n      <th></th>\n      <th colspan=\"5\" halign=\"left\">AGG</th>\n      <th colspan=\"5\" halign=\"left\">SPY</th>\n    </tr>\n    <tr>\n      <th></th>\n      <th>open</th>\n      <th>high</th>\n      <th>low</th>\n      <th>close</th>\n      <th>volume</th>\n      <th>open</th>\n      <th>high</th>\n      <th>low</th>\n      <th>close</th>\n      <th>volume</th>\n    </tr>\n  </thead>\n  <tbody>\n    <tr>\n      <th>2015-10-14 00:00:00-04:00</th>\n      <td>109.83</td>\n      <td>110.0500</td>\n      <td>109.7251</td>\n      <td>110.03</td>\n      <td>3785661</td>\n      <td>200.18</td>\n      <td>200.87</td>\n      <td>198.9400</td>\n      <td>199.27</td>\n      <td>82856686</td>\n    </tr>\n    <tr>\n      <th>2015-10-15 00:00:00-04:00</th>\n      <td>109.93</td>\n      <td>110.0499</td>\n      <td>109.7900</td>\n      <td>109.89</td>\n      <td>1792325</td>\n      <td>200.08</td>\n      <td>202.34</td>\n      <td>199.6400</td>\n      <td>202.33</td>\n      <td>96008389</td>\n    </tr>\n    <tr>\n      <th>2015-10-16 00:00:00-04:00</th>\n      <td>109.90</td>\n      <td>109.9400</td>\n      <td>109.7800</td>\n      <td>109.78</td>\n      <td>1497588</td>\n      <td>202.83</td>\n      <td>203.29</td>\n      <td>201.9200</td>\n      <td>203.14</td>\n      <td>79323870</td>\n    </tr>\n    <tr>\n      <th>2015-10-19 00:00:00-04:00</th>\n      <td>109.78</td>\n      <td>109.8950</td>\n      <td>109.6500</td>\n      <td>109.85</td>\n      <td>1289942</td>\n      <td>202.50</td>\n      <td>203.37</td>\n      <td>202.1300</td>\n      <td>203.33</td>\n      <td>61255929</td>\n    </tr>\n    <tr>\n      <th>2015-10-20 00:00:00-04:00</th>\n      <td>109.64</td>\n      <td>109.7800</td>\n      <td>109.5500</td>\n      <td>109.65</td>\n      <td>1672562</td>\n      <td>202.85</td>\n      <td>203.84</td>\n      <td>202.5471</td>\n      <td>203.07</td>\n      <td>60081395</td>\n    </tr>\n  </tbody>\n</table>\n</div>"
     },
     "metadata": {},
     "execution_count": 256
    }
   ],
   "source": [
    "# Get 5 years' worth of historical date for SPY and AGG\n",
    "df_ticker_retirement = alpaca.get_barset(tickers, timeframe, start=start_date_retirement, end=end_date_retirement).df\n",
    "\n",
    "# Display sample data\n",
    "df_ticker_retirement.head()"
   ]
  },
  {
   "cell_type": "code",
   "execution_count": null,
   "metadata": {},
   "outputs": [],
   "source": []
  }
 ]
}