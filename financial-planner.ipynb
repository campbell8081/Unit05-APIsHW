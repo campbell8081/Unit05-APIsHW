{
 "metadata": {
  "language_info": {
   "codemirror_mode": {
    "name": "ipython",
    "version": 3
   },
   "file_extension": ".py",
   "mimetype": "text/x-python",
   "name": "python",
   "nbconvert_exporter": "python",
   "pygments_lexer": "ipython3",
   "version": "3.8.3-final"
  },
  "orig_nbformat": 2,
  "kernelspec": {
   "name": "Python 3.8.3 64-bit ('base': conda)",
   "display_name": "Python 3.8.3 64-bit ('base': conda)",
   "metadata": {
    "interpreter": {
     "hash": "4971b783134bde4a5f7f7c01a96a05fc4c9d173f191f9e06fbd9272e16cd1a60"
    }
   }
  }
 },
 "nbformat": 4,
 "nbformat_minor": 2,
 "cells": [
  {
   "cell_type": "code",
   "execution_count": 15,
   "metadata": {},
   "outputs": [],
   "source": [
    "# Initial imports\n",
    "import os\n",
    "import requests\n",
    "import pandas as pd\n",
    "from dotenv import load_dotenv\n",
    "import alpaca_trade_api as tradeapi\n",
    "import json\n",
    "from MCForecastTools import MCSimulation\n",
    "\n",
    "%matplotlib inline"
   ]
  },
  {
   "cell_type": "code",
   "execution_count": 16,
   "metadata": {},
   "outputs": [
    {
     "output_type": "execute_result",
     "data": {
      "text/plain": [
       "True"
      ]
     },
     "metadata": {},
     "execution_count": 16
    }
   ],
   "source": [
    "# Load .env enviroment\n",
    "load_dotenv()"
   ]
  },
  {
   "cell_type": "code",
   "execution_count": 5,
   "metadata": {},
   "outputs": [],
   "source": [
    "## Part 1 - Personal Finance Planner"
   ]
  },
  {
   "cell_type": "code",
   "execution_count": 71,
   "metadata": {},
   "outputs": [],
   "source": [
    "# Set current amount of crypto assets\n",
    "my_btc = 1.2\n",
    "my_eth = 5.3"
   ]
  },
  {
   "cell_type": "code",
   "execution_count": 50,
   "metadata": {},
   "outputs": [],
   "source": [
    "# Cypto API URLs\n",
    "btc_url = \"https://api.alternative.me/v2/ticker/Bitcoin/?convert=CAD\"\n",
    "eth_url = \"https://api.alternative.me/v2/ticker/Ethereum/?convert=CAD\"\n",
    "btc_url = btc_url + \"?format=json\"\n",
    "eth_url = eth_url + \"?format=json\"\n",
    "btc_res = requests.get(btc_url)\n",
    "eth_res = requests.get(eth_url)"
   ]
  },
  {
   "cell_type": "code",
   "execution_count": 51,
   "metadata": {},
   "outputs": [],
   "source": [
    "btc_data = btc_res.json()\n",
    "eth_data = eth_res.json()"
   ]
  },
  {
   "cell_type": "code",
   "execution_count": 52,
   "metadata": {},
   "outputs": [
    {
     "output_type": "stream",
     "name": "stdout",
     "text": [
      "{\n    \"data\": {\n        \"1\": {\n            \"id\": 1,\n            \"name\": \"Bitcoin\",\n            \"symbol\": \"BTC\",\n            \"website_slug\": \"bitcoin\",\n            \"rank\": 1,\n            \"circulating_supply\": 18515437,\n            \"total_supply\": 18515437,\n            \"max_supply\": 21000000,\n            \"quotes\": {\n                \"USD\": {\n                    \"price\": 11459.37,\n                    \"volume_24h\": 21239055497,\n                    \"market_cap\": 212199790088,\n                    \"percentage_change_1h\": -0.573739571244248,\n                    \"percentage_change_24h\": 0.798984291311063,\n                    \"percentage_change_7d\": 6.25332583000349,\n                    \"percent_change_1h\": -0.573739571244248,\n                    \"percent_change_24h\": 0.798984291311063,\n                    \"percent_change_7d\": 6.25332583000349\n                }\n            },\n            \"last_updated\": 1602552562\n        }\n    },\n    \"metadata\": {\n        \"timestamp\": 1602552562,\n        \"num_cryptocurrencies\": 1436,\n        \"error\": null\n    }\n}\n"
     ]
    }
   ],
   "source": [
    "btc_json_data = json.dumps(btc_data, indent=4)\n",
    "print(btc_json_data)"
   ]
  },
  {
   "cell_type": "code",
   "execution_count": 53,
   "metadata": {},
   "outputs": [
    {
     "output_type": "stream",
     "name": "stdout",
     "text": [
      "{\n    \"data\": {\n        \"1027\": {\n            \"id\": 1027,\n            \"name\": \"Ethereum\",\n            \"symbol\": \"ETH\",\n            \"website_slug\": \"ethereum\",\n            \"rank\": 2,\n            \"circulating_supply\": 112982152,\n            \"total_supply\": 112982152,\n            \"max_supply\": 0,\n            \"quotes\": {\n                \"USD\": {\n                    \"price\": 383.95,\n                    \"volume_24h\": 12379648405,\n                    \"market_cap\": 43433663473,\n                    \"percentage_change_1h\": -0.704515481795004,\n                    \"percentage_change_24h\": 2.74381456132579,\n                    \"percentage_change_7d\": 8.58234465450249,\n                    \"percent_change_1h\": -0.704515481795004,\n                    \"percent_change_24h\": 2.74381456132579,\n                    \"percent_change_7d\": 8.58234465450249\n                }\n            },\n            \"last_updated\": 1602552586\n        }\n    },\n    \"metadata\": {\n        \"timestamp\": 1602552586,\n        \"num_cryptocurrencies\": 1436,\n        \"error\": null\n    }\n}\n"
     ]
    }
   ],
   "source": [
    "eth_json_data = json.dumps(eth_data, indent=4)\n",
    "print(eth_json_data)"
   ]
  },
  {
   "cell_type": "code",
   "execution_count": 54,
   "metadata": {},
   "outputs": [
    {
     "output_type": "stream",
     "name": "stdout",
     "text": [
      "11459.37\n"
     ]
    }
   ],
   "source": [
    "# Fetch current BTC price\n",
    "btc_price = btc_data[\"data\"][\"1\"][\"quotes\"][\"USD\"][\"price\"]\n",
    "print(btc_price)"
   ]
  },
  {
   "cell_type": "code",
   "execution_count": 55,
   "metadata": {},
   "outputs": [
    {
     "output_type": "stream",
     "name": "stdout",
     "text": [
      "383.95\n"
     ]
    }
   ],
   "source": [
    "# Fetch current ETH prics\n",
    "eth_price = eth_data[\"data\"][\"1027\"][\"quotes\"][\"USD\"][\"price\"]\n",
    "print(eth_price)"
   ]
  },
  {
   "cell_type": "code",
   "execution_count": 73,
   "metadata": {},
   "outputs": [
    {
     "output_type": "stream",
     "name": "stdout",
     "text": [
      "13751.244\n2034.935\n"
     ]
    }
   ],
   "source": [
    "# Compute current value of my crypto\n",
    "my_btc_value = my_btc * btc_price\n",
    "my_eth_value = my_eth * eth_price\n",
    "print(my_btc_value)\n",
    "print(my_eth_value)"
   ]
  },
  {
   "cell_type": "code",
   "execution_count": 75,
   "metadata": {},
   "outputs": [
    {
     "output_type": "stream",
     "name": "stdout",
     "text": [
      "The current value of your 1.2 BTC is $13751.244\nThe current value of your 5.3 ETH is $2034.935\n"
     ]
    }
   ],
   "source": [
    "# print current crypto wallet balance\n",
    "print(f\"The current value of your {my_btc} BTC is ${my_btc_value}\")\n",
    "print(f\"The current value of your {my_eth} ETH is ${my_eth_value}\")"
   ]
  },
  {
   "cell_type": "code",
   "execution_count": 76,
   "metadata": {},
   "outputs": [],
   "source": [
    "## Collect Investments Data Using Alpaca: SPY(stocks) and AGG (bonds)"
   ]
  },
  {
   "cell_type": "code",
   "execution_count": 81,
   "metadata": {},
   "outputs": [],
   "source": [
    "# Current amount of shares\n",
    "my_agg = 200\n",
    "my_spy = 50"
   ]
  },
  {
   "cell_type": "code",
   "execution_count": 82,
   "metadata": {},
   "outputs": [],
   "source": [
    "# Set alpaca API key and secret\n",
    "alpaca_api_key = os.getenv(\"ALPACA_API_KEY\")\n",
    "alpaca_secret_key = os.getenv(\"ALPACA_SECRET_KEY\")"
   ]
  },
  {
   "cell_type": "code",
   "execution_count": 83,
   "metadata": {},
   "outputs": [
    {
     "output_type": "stream",
     "name": "stdout",
     "text": [
      "Alpaca Key Type: <class 'str'>\nAlpaca Secret Key Type: <class 'str'>\n"
     ]
    }
   ],
   "source": [
    "# Verify that Aplaca key and secret were correctly loaded\n",
    "print(f\"Alpaca Key Type: {type(alpaca_api_key)}\")\n",
    "print(f\"Alpaca Secret Key Type: {type(alpaca_secret_key)}\")"
   ]
  },
  {
   "cell_type": "code",
   "execution_count": 84,
   "metadata": {},
   "outputs": [],
   "source": [
    "# Create the Alpaca API object\n",
    "alpaca = tradeapi.REST(alpaca_api_key, alpaca_secret_key, api_version=\"v2\")"
   ]
  },
  {
   "cell_type": "code",
   "execution_count": 123,
   "metadata": {},
   "outputs": [
    {
     "output_type": "execute_result",
     "data": {
      "text/plain": [
       "                              AGG                                      SPY  \\\n",
       "                             open    high    low    close   volume    open   \n",
       "2020-10-09 00:00:00-04:00  117.65  117.74  117.5  117.705  2750029  345.56   \n",
       "\n",
       "                                                             \n",
       "                             high     low   close    volume  \n",
       "2020-10-09 00:00:00-04:00  347.35  344.89  346.84  45969566  "
      ],
      "text/html": "<div>\n<style scoped>\n    .dataframe tbody tr th:only-of-type {\n        vertical-align: middle;\n    }\n\n    .dataframe tbody tr th {\n        vertical-align: top;\n    }\n\n    .dataframe thead tr th {\n        text-align: left;\n    }\n</style>\n<table border=\"1\" class=\"dataframe\">\n  <thead>\n    <tr>\n      <th></th>\n      <th colspan=\"5\" halign=\"left\">AGG</th>\n      <th colspan=\"5\" halign=\"left\">SPY</th>\n    </tr>\n    <tr>\n      <th></th>\n      <th>open</th>\n      <th>high</th>\n      <th>low</th>\n      <th>close</th>\n      <th>volume</th>\n      <th>open</th>\n      <th>high</th>\n      <th>low</th>\n      <th>close</th>\n      <th>volume</th>\n    </tr>\n  </thead>\n  <tbody>\n    <tr>\n      <th>2020-10-09 00:00:00-04:00</th>\n      <td>117.65</td>\n      <td>117.74</td>\n      <td>117.5</td>\n      <td>117.705</td>\n      <td>2750029</td>\n      <td>345.56</td>\n      <td>347.35</td>\n      <td>344.89</td>\n      <td>346.84</td>\n      <td>45969566</td>\n    </tr>\n  </tbody>\n</table>\n</div>"
     },
     "metadata": {},
     "execution_count": 123
    }
   ],
   "source": [
    "# Format current date as ISO format\n",
    "today = pd.Timestamp(\"2020-10-09\", tz=\"America/New_York\").isoformat()\n",
    "\n",
    "# Set the tickers\n",
    "tickers = [\"AGG\", \"SPY\"]\n",
    "\n",
    "# Set timeframe to '1D' for Alpaca API\n",
    "timeframe = \"1D\"\n",
    "\n",
    "# Get current closing prices for SPY and AGG\n",
    "df_ticker = alpaca.get_barset(tickers, timeframe, start=today, end=today).df\n",
    "\n",
    "# Preview DataFrame\n",
    "df_ticker.head()"
   ]
  },
  {
   "cell_type": "code",
   "execution_count": 132,
   "metadata": {},
   "outputs": [
    {
     "output_type": "stream",
     "name": "stdout",
     "text": [
      "                AGG\n2020-10-09  117.705\n               SPY\n2020-10-09  346.84\n"
     ]
    }
   ],
   "source": [
    "# Pick AGG and SPY close prices\n",
    "agg_close_price = pd.DataFrame()\n",
    "spy_close_price = pd.DataFrame()\n",
    "\n",
    "agg_close_price[\"AGG\"] = df_ticker[\"AGG\"][\"close\"]\n",
    "spy_close_price[\"SPY\"] = df_ticker[\"SPY\"][\"close\"]\n",
    "\n",
    "agg_close_price.index = agg_close_price.index.date\n",
    "spy_close_price.index = spy_close_price.index.date\n",
    "\n",
    "# print AGg and SPY close prices\n",
    "print(agg_close_price)\n",
    "print(spy_close_price)"
   ]
  },
  {
   "cell_type": "code",
   "execution_count": 93,
   "metadata": {},
   "outputs": [],
   "source": [
    "# Compute the current value of shares\n",
    "# Print current value of share"
   ]
  },
  {
   "cell_type": "code",
   "execution_count": 94,
   "metadata": {},
   "outputs": [],
   "source": [
    "## Savings Health Analysis "
   ]
  },
  {
   "cell_type": "code",
   "execution_count": null,
   "metadata": {},
   "outputs": [],
   "source": []
  }
 ]
}